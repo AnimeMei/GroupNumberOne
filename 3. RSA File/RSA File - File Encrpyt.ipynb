{
 "cells": [
  {
   "cell_type": "code",
   "execution_count": 8,
   "metadata": {},
   "outputs": [
    {
     "name": "stdout",
     "output_type": "stream",
     "text": [
      "Encrypted w/ tag\n",
      "b'\\xba8\\xc2[\\xd7\\x00\\xc8:\\xddY\\x19\\xab(\"zQ' b'\\xaa\\xc8\\xf7\\xd0NV\\xa5\\xd2nA\\xb9\\x03\\xb4[\\xe0#' b'\\x9a\\xe7\\xf3\\x85^\\xc2\\xf8.\\x1d\\x8fF\\xad)\\xa6\\x85\"p\\xa8\\x8e\\xb9\\x90/\\xe3\\xce-XPx\\xde\\x08*\\xad'\n",
      "\n",
      "decrypted\n",
      "verified\n"
     ]
    },
    {
     "data": {
      "text/plain": [
       "b'a secret message'"
      ]
     },
     "execution_count": 8,
     "metadata": {},
     "output_type": "execute_result"
    }
   ],
   "source": [
    "import os\n",
    "import cryptography\n",
    "from cryptography.hazmat.primitives.ciphers import Cipher, algorithms, modes\n",
    "from cryptography.hazmat.backends import default_backend\n",
    "from cryptography.hazmat.primitives import padding, hashes, hmac\n",
    "import base64\n",
    "\n",
    "from cryptography.hazmat.primitives import padding, serialization, hashes\n",
    "from cryptography.hazmat.primitives.asymmetric import rsa\n",
    "import cryptography.hazmat.primitives.asymmetric as asymm\n",
    "\n",
    "# encryption method AES-CBC-256\n",
    "def Myencrypt(message, key, h):\n",
    "    \n",
    "    #key length check\n",
    "    if len(key)<32:\n",
    "        return \"Error: This place is full of land mines, dragons, and dinosaurs with laser guns. Increase you key length to upgrade your armor.\"\n",
    "    \n",
    "    try:\n",
    "        message = message.encode()\n",
    "    except:\n",
    "        pass\n",
    "    \n",
    "    iv = os.urandom(16)   #generate an iv\n",
    "    if len(message)%16 != 0:\n",
    "        padder = padding.PKCS7(128).padder()\n",
    "        padded_data = padder.update(message) + padder.finalize()\n",
    "        message = padded_data\n",
    "    \n",
    "    #HMAC\n",
    "    #calling the default AES CBC mode\n",
    "    cipher = Cipher(algorithms.AES(key), modes.CBC(iv), backend=default_backend())\n",
    "    #creating an encryptor object\n",
    "    encryptor = cipher.encryptor()\n",
    "    #generating cipher text\n",
    "    ct = encryptor.update(message) + encryptor.finalize()\n",
    "    #return (ct, iv) \n",
    "    \n",
    "    tag = hmac.HMAC(h, hashes.SHA256(), backend=default_backend())\n",
    "    tag.update(ct)\n",
    "    tag = tag.finalize()\n",
    "    return (ct, iv, tag)\n",
    "    \n",
    "\n",
    "\n",
    "def Mydecrypt(ct, iv, tag, key, h):\n",
    "    #print(tag)\n",
    "    #print(ct)\n",
    "    \n",
    "    #Verify\n",
    "    h = hmac.HMAC(h, hashes.SHA256(), backend=default_backend())\n",
    "    h.update(ct)\n",
    "    h = h.finalize()\n",
    "    \n",
    "    if h == tag:\n",
    "        print(\"verified\")\n",
    "        cipher = Cipher(algorithms.AES(key), modes.CBC(iv), backend=default_backend())\n",
    "        #creating a decryptor object\n",
    "        decryptor = cipher.decryptor()\n",
    "        pt = decryptor.update(ct) + decryptor.finalize()\n",
    "        try:\n",
    "            unpadder = padding.PKCS7(128).unpadder()\n",
    "            pt = unpadder.update(pt) + unpadder.finalize()\n",
    "            return pt\n",
    "        except:\n",
    "            return pt\n",
    "    else:\n",
    "        return(\"invalid\")\n",
    "\n",
    "\n",
    "\n",
    "# execution code    \n",
    "key = os.urandom(32)\n",
    "h = os.urandom(32)\n",
    "m = \"a secret message\"\n",
    "# m = \"hi\"\n",
    "c, iv, tag = Myencrypt(m, key, h)\n",
    "print(\"Encrypted w/ tag\")\n",
    "print(c, iv, tag)\n",
    "\n",
    "print(\"\\ndecrypted\")\n",
    "Mydecrypt(c, iv, tag, key, h)\n"
   ]
  },
  {
   "cell_type": "code",
   "execution_count": 9,
   "metadata": {},
   "outputs": [
    {
     "name": "stdout",
     "output_type": "stream",
     "text": [
      "verified\n"
     ]
    }
   ],
   "source": [
    "# file encryption algorithm\n",
    "def MyfileEncrypt(filepath):\n",
    "    key = os.urandom(32)\n",
    "    h = os.urandom(32)\n",
    "    # Read the entire file as a single byte string\n",
    "    with open(filepath, 'rb') as f:\n",
    "        data = f.read()\n",
    "\n",
    "    result = Myencrypt(data, key, h)\n",
    "    ext = os.path.splitext(file_path)[1]\n",
    "    result += (key, h, ext)\n",
    "    \n",
    "    image_result = open(\"encrypted_image.png\", 'wb') # create a writable image and write the decoding result\n",
    "    image_result.write(result[0])\n",
    "    \n",
    "    return result\n",
    "\n",
    "# file dencryption algorithm\n",
    "def MyfileDecrypt(enc_filepath, iv, tag, key, h, ext):\n",
    "    \n",
    "    with open(enc_filepath, 'rb') as f:\n",
    "        data = f.read()\n",
    "    \n",
    "    file_name = \"decrypted_image\" + ext\n",
    "    plaintext = Mydecrypt(data, iv, tag, key, h)\n",
    "    image_result = open(file_name, 'wb') # create a writable image and write the decoding result\n",
    "    image_result.write(plaintext)\n",
    "\n",
    "\n",
    "# ----------------------\n",
    "#Execution code\n",
    "file_path = os.path.abspath(\"hello.png\")\n",
    "ct, iv, tag, key, h, ext = MyfileEncrypt(file_path)\n",
    "MyfileDecrypt(\"encrypted_image.png\", iv, tag, key, h, ext)"
   ]
  },
  {
   "cell_type": "code",
   "execution_count": null,
   "metadata": {
    "collapsed": true
   },
   "outputs": [],
   "source": []
  }
 ],
 "metadata": {
  "kernelspec": {
   "display_name": "Python 3",
   "language": "python",
   "name": "python3"
  },
  "language_info": {
   "codemirror_mode": {
    "name": "ipython",
    "version": 3
   },
   "file_extension": ".py",
   "mimetype": "text/x-python",
   "name": "python",
   "nbconvert_exporter": "python",
   "pygments_lexer": "ipython3",
   "version": "3.6.1"
  }
 },
 "nbformat": 4,
 "nbformat_minor": 2
}
