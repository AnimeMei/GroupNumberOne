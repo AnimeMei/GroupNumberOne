{
 "cells": [
  {
   "cell_type": "code",
   "execution_count": 261,
   "metadata": {},
   "outputs": [],
   "source": [
    "import json, requests, os"
   ]
  },
  {
   "cell_type": "code",
   "execution_count": 260,
   "metadata": {},
   "outputs": [],
   "source": [
    "#create public/private key pair\n",
    "def create_pem_key_pair(filename):\n",
    "    # create a directory to store PEM public key\n",
    "    newpath = os.path.abspath(\"key\")\n",
    "    if not os.path.exists(newpath):\n",
    "        os.makedirs(newpath)\n",
    "\n",
    "    filename = os.path.splitext(filename)\n",
    "    \n",
    "    # create key object\n",
    "    backend = default_backend()\n",
    "    key = rsa.generate_private_key(backend=backend, public_exponent=65537,key_size=2048)\n",
    "\n",
    "    # private key\n",
    "    private_key_name = filename[0]+\".private.pem\"\n",
    "    private_key = key.private_bytes(\n",
    "            encoding=serialization.Encoding.PEM,\n",
    "            format=serialization.PrivateFormat.TraditionalOpenSSL,\n",
    "            encryption_algorithm=serialization.NoEncryption()\n",
    "            )\n",
    "    \n",
    "    # POST private key to server\n",
    "    rprivate = requests.post('http://localhost:3000/tasks/', \n",
    "                  data={'name': private_key_name, 'value': private_key})\n",
    "    print(rprivate.status_code, rprivate.reason, \" ---> private.pem POST request has succeeded.\")\n",
    "\n",
    "\n",
    "    #public key\n",
    "    public_key_path = os.path.join(\"key\",filename[0]+\".public.pem\")\n",
    "    public_key = key.public_key().public_bytes(\n",
    "            encoding=serialization.Encoding.PEM,\n",
    "            format=serialization.PublicFormat.SubjectPublicKeyInfo\n",
    "            )\n",
    "    \n",
    "#     # POST public key to server\n",
    "#     rpublic = requests.post('http://localhost:3000/tasks/', \n",
    "#                   data={'name': , 'value': public_key})\n",
    "#     print(rpublic.status_code, rpublic.reason, \" ---> public.pem POST request has succeeded.\")\n",
    "\n",
    "    # keep public key locally\n",
    "    with open(public_key_path, 'wb') as public_pem:\n",
    "        public_pem.write(public_key)\n",
    "        public_pem.close()\n",
    "    \n",
    "    print(\"Success: POST \\\"public.pem\\\" and \\\"private.pem\\\" to the server complete.\")\n",
    "    \n",
    "    \n",
    "    "
   ]
  },
  {
   "cell_type": "code",
   "execution_count": 257,
   "metadata": {},
   "outputs": [],
   "source": [
    "def fetch_pem_key():\n",
    "    # create a directory to store PEM keys\n",
    "    newpath = os.path.abspath(\"key\")\n",
    "    if not os.path.exists(newpath):\n",
    "        os.makedirs(newpath)\n",
    "        \n",
    "    url = 'http://localhost:3000/tasks/'\n",
    "    resp = requests.get(url=url)\n",
    "    data = json.loads(resp.text)\n",
    "\n",
    "    for item_dict in data:    \n",
    "        # traverse through the dictionary to obtain key,value\n",
    "        for key, value in item_dict.items():\n",
    "            if key == \"name\":\n",
    "                filename = value\n",
    "            if key == \"value\":\n",
    "                pem_data = value\n",
    "        filepath = os.path.abspath(os.path.join(\"key\",filename))\n",
    "        try:\n",
    "            #create pem key from \n",
    "            with open(filepath,\"a+\") as f:\n",
    "                f.write(pem_data)\n",
    "        except:\n",
    "            print(\"Error: Unable to write .pem file.\")\n",
    "        \n",
    "        \n",
    "        \n"
   ]
  },
  {
   "cell_type": "code",
   "execution_count": 258,
   "metadata": {},
   "outputs": [
    {
     "name": "stdout",
     "output_type": "stream",
     "text": [
      "/Users/adrian/Documents/Work_School/GroupNumberOne/3_RSA_File/drafts/key/private.pem\n",
      "/Users/adrian/Documents/Work_School/GroupNumberOne/3_RSA_File/drafts/key/public.pem\n"
     ]
    }
   ],
   "source": [
    "fetch_pem_key()"
   ]
  },
  {
   "cell_type": "code",
   "execution_count": 259,
   "metadata": {},
   "outputs": [],
   "source": [
    "# r = requests.post('http://localhost:3000/tasks/', \n",
    "#                   data={'name': \"this is a name\", 'value': 'this is a value'})\n",
    "# print(r.status_code, r.reason, \" ---> The request has succeeded.\")\n"
   ]
  },
  {
   "cell_type": "code",
   "execution_count": null,
   "metadata": {},
   "outputs": [],
   "source": []
  }
 ],
 "metadata": {
  "kernelspec": {
   "display_name": "Python 3",
   "language": "python",
   "name": "python3"
  },
  "language_info": {
   "codemirror_mode": {
    "name": "ipython",
    "version": 3
   },
   "file_extension": ".py",
   "mimetype": "text/x-python",
   "name": "python",
   "nbconvert_exporter": "python",
   "pygments_lexer": "ipython3",
   "version": "3.6.3"
  }
 },
 "nbformat": 4,
 "nbformat_minor": 2
}
