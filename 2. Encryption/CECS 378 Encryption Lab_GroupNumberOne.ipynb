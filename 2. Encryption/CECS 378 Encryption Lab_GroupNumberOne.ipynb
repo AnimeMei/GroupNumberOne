{
 "cells": [
  {
   "cell_type": "markdown",
   "metadata": {},
   "source": [
    "In this phase, you'll develop modules that will encrypt/decrypt a file.\n",
    "\n",
    "I recommend using Python Cryptography (hazmat ONLY!). \n",
    "https://cryptography.io/en/latest/hazmat/primitives/\n",
    "\n",
    "If you decide to use JS, there is vanilla JS lib at here. \n",
    "https://crypto.stanford.edu/sjcl/\n",
    "\n",
    "Should you have any questions regarding the crypto building blocks then do not hesitate to ask the instructor.\n",
    "\n",
    "You will design these modules:"
   ]
  },
  {
   "cell_type": "markdown",
   "metadata": {},
   "source": [
    "### (C, IV)= Myencrypt(message, key):\n",
    "\n",
    "In this method, you will generate a 16 Bytes IV, and encrypt the message using the key and IV in CBC mode (AES).  You return an error if the len(key) < 32 (i.e., the key has to be 32 bytes= 256 bits).\n"
   ]
  },
  {
   "cell_type": "code",
   "execution_count": 12,
   "metadata": {},
   "outputs": [
    {
     "name": "stdout",
     "output_type": "stream",
     "text": [
      "(b'\\xc5\\x1e\\x1c\\xcb\\xda\\xb1,V\\x90>\\x7f\\x0b\\x1b\\x998\\x10\\x14B\\xb8Gn\\xf60\\xd5\\x93\\x81\\x08\\xbd\\x072x\\x1e', b'\\n*\\x8b++\\xf5\\xc3\\x8a>\\x05q\\xa6\\x16\\x1a\\x8e\\xaf')\n"
     ]
    },
    {
     "data": {
      "text/plain": [
       "'a secret message'"
      ]
     },
     "execution_count": 12,
     "metadata": {},
     "output_type": "execute_result"
    }
   ],
   "source": [
    "import os\n",
    "import base64\n",
    "import cryptography\n",
    "from cryptography.hazmat.primitives.ciphers import Cipher, algorithms, modes\n",
    "from cryptography.hazmat.backends import default_backend\n",
    "from cryptography.hazmat.primitives import padding, serialization, hashes, asymmetric\n",
    "from cryptography.hazmat.primitives.asymmetric import rsa\n",
    "\n",
    "# encryption method AES-CBC-256\n",
    "def Myencrypt(message, key):\n",
    "    \n",
    "    #key length check\n",
    "    if len(key)<32:\n",
    "        return \"Error: This place is full of land mines, dragons, and dinosaurs with laser guns. Increase you key length to upgrade your armor.\"\n",
    "    \n",
    "    try:\n",
    "        message = message.encode()\n",
    "    except:\n",
    "        pass\n",
    "    \n",
    "    iv = os.urandom(16)   #generate an iv\n",
    "\n",
    "    padder = padding.PKCS7(128).padder()\n",
    "    padded_data = padder.update(message) + padder.finalize()\n",
    "    message = padded_data\n",
    "        \n",
    "    #calling the default AES CBC mode\n",
    "    cipher = Cipher(algorithms.AES(key), modes.CBC(iv), backend=default_backend())\n",
    "    #creating an encryptor object\n",
    "    encryptor = cipher.encryptor()\n",
    "    #generating cipher text\n",
    "    ct = encryptor.update(message) + encryptor.finalize()\n",
    "    return(ct, iv) \n",
    "\n",
    "\n",
    "def Mydecrypt(ct, iv, key):\n",
    "    cipher = Cipher(algorithms.AES(key), modes.CBC(iv), backend=default_backend())\n",
    "    #creating a decryptor object\n",
    "    decryptor = cipher.decryptor()\n",
    "    pt = decryptor.update(ct) + decryptor.finalize()\n",
    "    \n",
    "    try:\n",
    "        unpadder = padding.PKCS7(128).unpadder()\n",
    "        pt = unpadder.update(pt) + unpadder.finalize()\n",
    "        return pt\n",
    "    except:\n",
    "        return pt\n",
    "\n",
    "\n",
    "\n",
    "# execution code    \n",
    "key = os.urandom(32)\n",
    "m = \"a secret message\"\n",
    "result = Myencrypt(m, key)\n",
    "print(result)\n",
    "Mydecrypt(result[0], result[1], key).decode('utf8')\n"
   ]
  },
  {
   "cell_type": "markdown",
   "metadata": {},
   "source": [
    "### (C, IV, key, ext)= MyfileEncrypt (filepath):\n",
    "\n",
    "In this method, you'll generate a 32Byte key. You open and read the file as a string. You then call the above method to encrypt your file using the key you generated. You return the cipher C, IV, key and the extension of the file (as a string).\n",
    "\n",
    "You'll have to write the inverse of the above methods. \n",
    "\n",
    "You will be asked to encrypt a JPEG file and then decrypt it and make sure you still can view the image."
   ]
  },
  {
   "cell_type": "code",
   "execution_count": 14,
   "metadata": {},
   "outputs": [
    {
     "name": "stdout",
     "output_type": "stream",
     "text": [
      "Enter a file path for encrypted file output such as \"encrypted_image\": enc_file\n",
      "Enter a file path for previously encrypted file: enc_file\n",
      "Enter a file path for decrypted file output such as \"decrypted_image\": dec_file\n"
     ]
    }
   ],
   "source": [
    "# file encryption algorithm\n",
    "def MyfileEncrypt(filepath):\n",
    "    key = os.urandom(32)\n",
    "    \n",
    "    # Read the entire file as a single byte string\n",
    "    with open(filepath, 'rb') as f:\n",
    "        data = f.read()\n",
    "\n",
    "    result = Myencrypt(data, key)\n",
    "    ext = os.path.splitext(file_path)[1]\n",
    "    result += (key, ext)\n",
    "    \n",
    "    input_enc_filepath = input(\"Enter a file path for encrypted file output such as \\\"encrypted_image\\\": \")\n",
    "    \n",
    "    image_result = open(input_enc_filepath + ext, 'wb') # create a writable image and write the decoding result\n",
    "    image_result.write(result[0])\n",
    "    \n",
    "    return result\n",
    "\n",
    "# file dencryption algorithm\n",
    "def MyfileDecrypt(enc_filepath, iv, key, ext):\n",
    "    \n",
    "    with open(enc_filepath, 'rb') as f:\n",
    "        data = f.read()\n",
    "    \n",
    "    input_dec_filepath = input(\"Enter a file path for decrypted file output such as \\\"decrypted_image\\\": \")\n",
    "\n",
    "    file_name = input_dec_filepath + ext\n",
    "    plaintext = Mydecrypt(data, iv, key)\n",
    "    image_result = open(file_name, 'wb') # create a writable image and write the decoding result\n",
    "    image_result.write(plaintext)\n",
    "\n",
    "\n",
    "# ----------------------\n",
    "#Execution code\n",
    "file_path = os.path.abspath(\"image.png\")\n",
    "ct, iv, key, ext = MyfileEncrypt(file_path)\n",
    "input_enc_filepath = input(\"Enter a file path for previously encrypted file: \")\n",
    "MyfileDecrypt(input_enc_filepath+ext, iv, key, ext)"
   ]
  },
  {
   "cell_type": "markdown",
   "metadata": {},
   "source": [
    "Next, you will be asked to write a method as below:\n",
    "\n",
    "### (RSACipher, C, IV, ext)= MyRSAEncrypt(filepath, RSA_Publickey_filepath):\n",
    "\n",
    "In this method, you first call MyfileEncrypt (filepath) which will return (C, IV, key, ext). \n",
    "\n",
    "You then will initialize an RSA public key encryption object and load pem publickey from the RSA_publickey_filepath. \n",
    "\n",
    "Lastly, you encrypt the key variable (\"key\") using the RSA publickey in OAEP padding mode. \n",
    "\n",
    "The result will be RSACipher. You then return (RSACipher, C, IV, ext). \n",
    "\n",
    "Remember to do the inverse (MyRSADecrypt (RSACipher, C, IV, ext, RSA_Privatekey_filepath)) which does the exactly inverse of the above and generate the decrypted file using your previous decryption methods."
   ]
  },
  {
   "cell_type": "code",
   "execution_count": 15,
   "metadata": {},
   "outputs": [
    {
     "name": "stdout",
     "output_type": "stream",
     "text": [
      "Enter a file path for encrypted file output such as \"encrypted_image\": enc_file2\n",
      "Enter a file path for previously encrypted file: enc_file2\n",
      "Enter a file path for decrypted file output such as \"decrypted_image\": dec_file2\n"
     ]
    }
   ],
   "source": [
    "#create public/private key pair\n",
    "def create_pem_key_pair():\n",
    "    # create key object\n",
    "    backend = default_backend()\n",
    "    key = rsa.generate_private_key(backend=backend, public_exponent=65537,key_size=2048)\n",
    "    \n",
    "    # private key\n",
    "    private_key = key.private_bytes(\n",
    "            encoding=serialization.Encoding.PEM,\n",
    "            format=serialization.PrivateFormat.TraditionalOpenSSL,\n",
    "            encryption_algorithm=serialization.NoEncryption()\n",
    "            )\n",
    "    with open(\"private.pem\", 'wb') as private_pem:\n",
    "        private_pem.write(private_key)\n",
    "        private_pem.close()\n",
    "    \n",
    "    #public key\n",
    "    public_key = key.public_key().public_bytes(\n",
    "            encoding=serialization.Encoding.PEM,\n",
    "            format=serialization.PublicFormat.SubjectPublicKeyInfo\n",
    "            )\n",
    "    with open(\"public.pem\", 'wb') as public_pem:\n",
    "        public_pem.write(public_key)\n",
    "        public_pem.close()\n",
    "    \n",
    "    \n",
    "#RSA encryption method\n",
    "def MyRSAEncrypt(file_path, RSA_Publickey_filepath):\n",
    "    #encrypting an image file\n",
    "    ct, iv, key, ext = MyfileEncrypt(file_path)\n",
    "    \n",
    "    with open(RSA_Publickey_filepath, \"rb\") as p_key:\n",
    "        public_key = serialization.load_pem_public_key(p_key.read(),backend=default_backend())\n",
    "        \n",
    "    #obtain RSACipher\n",
    "    RSACipher = public_key.encrypt(key, asymmetric.padding.OAEP(\n",
    "                                           mgf=asymmetric.padding.MGF1(algorithm=hashes.SHA256()),\n",
    "                                           algorithm=hashes.SHA256(),\n",
    "                                           label=None ))\n",
    "    return RSACipher, ct, iv, ext\n",
    "\n",
    "\n",
    "#RSA decryption method\n",
    "def MyRSADecrypt(RSACipher, ct, iv, ext, RSA_Privatekey_filepath):\n",
    "\n",
    "    with open(RSA_Privatekey_filepath, \"rb\") as key:\n",
    "        private_key = serialization.load_pem_private_key(key.read(),password=None, backend=default_backend())\n",
    "\n",
    "    key = private_key.decrypt(\n",
    "        RSACipher,\n",
    "        asymmetric.padding.OAEP(mgf=asymmetric.padding.MGF1(algorithm=hashes.SHA256()),algorithm=hashes.SHA256(),label=None))\n",
    "\n",
    "    MyfileDecrypt(ct, iv, key, ext)\n",
    "    \n",
    "\n",
    "#execution code\n",
    "create_pem_key_pair() \n",
    "RSACipher, ct, iv, ext = MyRSAEncrypt(\"image.png\", \"public.pem\")\n",
    "input_enc_filepath = input(\"Enter a file path for previously encrypted file: \")\n",
    "MyRSADecrypt(RSACipher, input_enc_filepath+ext, iv, ext, \"private.pem\")"
   ]
  },
  {
   "cell_type": "markdown",
   "metadata": {},
   "source": [
    "###### Make sure to use github to commit and push all of your code so the instructor can see your source."
   ]
  }
 ],
 "metadata": {
  "kernelspec": {
   "display_name": "Python 3",
   "language": "python",
   "name": "python3"
  },
  "language_info": {
   "codemirror_mode": {
    "name": "ipython",
    "version": 3
   },
   "file_extension": ".py",
   "mimetype": "text/x-python",
   "name": "python",
   "nbconvert_exporter": "python",
   "pygments_lexer": "ipython3",
   "version": "3.6.3"
  }
 },
 "nbformat": 4,
 "nbformat_minor": 2
}
